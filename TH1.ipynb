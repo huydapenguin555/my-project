{
 "cells": [
  {
   "cell_type": "code",
   "execution_count": 2,
   "id": "bd415495-af01-4939-a689-3c3cf991ea0a",
   "metadata": {},
   "outputs": [
    {
     "name": "stdin",
     "output_type": "stream",
     "text": [
      "Tên người dùng: huy\n"
     ]
    },
    {
     "name": "stdout",
     "output_type": "stream",
     "text": [
      "Hello huy\n"
     ]
    }
   ],
   "source": [
    "#W2A2\n",
    "i = input(\"Tên người dùng:\")\n",
    "print (\"Hello\", i)"
   ]
  },
  {
   "cell_type": "code",
   "execution_count": 9,
   "id": "b0c6d5ec-2822-463c-b422-368813a7e2a3",
   "metadata": {},
   "outputs": [
    {
     "name": "stdin",
     "output_type": "stream",
     "text": [
      "Số nguyên a: 2\n",
      "Số nguyên b: 3\n"
     ]
    },
    {
     "name": "stdout",
     "output_type": "stream",
     "text": [
      "tong tong 5.00\n",
      "hieu -1\n",
      "tich 6\n",
      "thuong 0.6666666666666666\n"
     ]
    }
   ],
   "source": [
    "#W2A3\n",
    "a = int(input(\"Số nguyên a:\"))\n",
    "b = int(input(\"Số nguyên b:\"))\n",
    "\n",
    "tong = a + b\n",
    "hieu = a - b\n",
    "tich = a * b\n",
    "thuong = a / b\n",
    "\n",
    "print(\"tong\", f'tong {tong:.2f}')\n",
    "print(\"hieu\", hieu)\n",
    "print(\"tich\", tich)\n",
    "print(\"thuong\", thuong)\n"
   ]
  },
  {
   "cell_type": "code",
   "execution_count": 11,
   "id": "51d48139-fb73-4fb3-94c6-de57e16a27a8",
   "metadata": {},
   "outputs": [
    {
     "name": "stdin",
     "output_type": "stream",
     "text": [
      "Điểm a1: 9\n",
      "Điểm b1: 9\n",
      "Điểm c1: 8\n",
      "Điểm a2: 4\n",
      "Điểm b2: 3\n",
      "Điểm a3: 10\n"
     ]
    },
    {
     "name": "stdout",
     "output_type": "stream",
     "text": [
      "Điểm TB: TB 7.0\n"
     ]
    }
   ],
   "source": [
    "#W2A4\n",
    "a1 = float(input(\"Điểm a1:\"))\n",
    "b1 = float(input(\"Điểm b1:\"))\n",
    "c1 = float(input(\"Điểm c1:\"))\n",
    "a2 = float(input(\"Điểm a2:\"))\n",
    "b2 = float(input(\"Điểm b2:\"))\n",
    "a3 = float(input(\"Điểm a3:\"))\n",
    "\n",
    "TB=((a1+b1+c1)+(a2+b2)*2+a3*3)/10\n",
    "\n",
    "print(\"Điểm TB:\", f'TB {TB:.1f}')\n"
   ]
  },
  {
   "cell_type": "code",
   "execution_count": 27,
   "id": "9d8801f3-4d5e-46ef-9a8c-20766790fc72",
   "metadata": {},
   "outputs": [
    {
     "name": "stdin",
     "output_type": "stream",
     "text": [
      " 1 2 3 4 5 6\n"
     ]
    },
    {
     "name": "stdout",
     "output_type": "stream",
     "text": [
      "Điểm TB: 4.2\n"
     ]
    }
   ],
   "source": [
    "#W2A5\n",
    "line = input()\n",
    "a1,b1,c1,a2,b2,a3 = map(float, line.split())\n",
    "\n",
    "TB=((a1+b1+c1)+(a2+b2)*2+a3*3)/10\n",
    "\n",
    "print(\"Điểm TB:\",f'{TB:.1f}')"
   ]
  },
  {
   "cell_type": "code",
   "execution_count": 34,
   "id": "9a1f10e0-1bda-4d4a-9496-6e73916b70ac",
   "metadata": {},
   "outputs": [
    {
     "name": "stdin",
     "output_type": "stream",
     "text": [
      " a\n"
     ]
    },
    {
     "name": "stdout",
     "output_type": "stream",
     "text": [
      "A\n"
     ]
    }
   ],
   "source": [
    "#W2A6\n",
    "text = input()\n",
    "Cap = ord(text)-32\n",
    "print(chr(Cap))"
   ]
  },
  {
   "cell_type": "code",
   "execution_count": 10,
   "id": "96b2e7d9-4c00-443e-8e4a-84131f798ffa",
   "metadata": {},
   "outputs": [
    {
     "name": "stdout",
     "output_type": "stream",
     "text": [
      "512 512\n"
     ]
    }
   ],
   "source": [
    "#W2A7\n",
    "A = ((13 ** 2) * 3) + 5\n",
    "B = 13**2*3 + 5\n",
    "print(A,B)"
   ]
  },
  {
   "cell_type": "code",
   "execution_count": 11,
   "id": "83fba02a-62aa-42f0-a6b0-f924e3436f8f",
   "metadata": {},
   "outputs": [
    {
     "name": "stdin",
     "output_type": "stream",
     "text": [
      " a b c\n"
     ]
    },
    {
     "name": "stdout",
     "output_type": "stream",
     "text": [
      "Hi c, b and a\n"
     ]
    }
   ],
   "source": [
    "#W2A10\n",
    "line = input()\n",
    "t1,t2,t3 = line.split()\n",
    "print(f\"Hi {t3}, {t2} and {t1}\")"
   ]
  },
  {
   "cell_type": "code",
   "execution_count": 31,
   "id": "a5ca43eb-b38a-4dee-a7aa-06243270efbd",
   "metadata": {},
   "outputs": [
    {
     "name": "stdin",
     "output_type": "stream",
     "text": [
      "Độ C: 8\n"
     ]
    },
    {
     "name": "stdout",
     "output_type": "stream",
     "text": [
      "F= 46.40 Độ\n"
     ]
    }
   ],
   "source": [
    "#W2A8\n",
    "C = float(input( \"Độ C:\"))\n",
    "F = 9/5*C + 32\n",
    "print(\"F=\", f'{F:.2f}', \"Độ\")"
   ]
  },
  {
   "cell_type": "code",
   "execution_count": 49,
   "id": "b1acf4b7-c9d7-4337-9143-5d50e63c99ba",
   "metadata": {},
   "outputs": [
    {
     "name": "stdin",
     "output_type": "stream",
     "text": [
      " 19\n"
     ]
    },
    {
     "name": "stdout",
     "output_type": "stream",
     "text": [
      "Total: 36.6 USD\n"
     ]
    }
   ],
   "source": [
    "#W2A9\n",
    "Gia = float(input())\n",
    "Total = Gia * 1.4 +10\n",
    "print(f'Total: {Total:.1f} USD')\n",
    "\n"
   ]
  },
  {
   "cell_type": "code",
   "execution_count": 57,
   "id": "c3394d55-f960-40a4-beb9-2c061e99f323",
   "metadata": {},
   "outputs": [
    {
     "name": "stdin",
     "output_type": "stream",
     "text": [
      "Hour: 1\n",
      "Min: 1\n"
     ]
    },
    {
     "name": "stdout",
     "output_type": "stream",
     "text": [
      "Số giây: 3660s\n"
     ]
    }
   ],
   "source": [
    "#W2A11\n",
    "Hour = int(input(\"Hour:\",))\n",
    "Min = int(input(\"Min:\",))\n",
    "\n",
    "Sec = (Hour * 60 + Min) * 60\n",
    "\n",
    "print(f'Số giây: {Sec}s')\n",
    "\n"
   ]
  },
  {
   "cell_type": "code",
   "execution_count": 59,
   "id": "f8fb42a6-238b-4a9d-a1e8-b27ef9e940d3",
   "metadata": {
    "editable": true,
    "slideshow": {
     "slide_type": ""
    },
    "tags": []
   },
   "outputs": [
    {
     "name": "stdin",
     "output_type": "stream",
     "text": [
      "Số cạnh: 1\n"
     ]
    },
    {
     "name": "stdout",
     "output_type": "stream",
     "text": [
      "Cần 6 miếng dán\n"
     ]
    }
   ],
   "source": [
    "#W2A12\n",
    "Độ_dài_cạnh = int(input(\"Số cạnh của Rubik:\",))\n",
    "\n",
    "Total = Độ_dài_cạnh**2 * 6\n",
    "\n",
    "print(f'Cần {Total} miếng dán')\n",
    "              "
   ]
  },
  {
   "cell_type": "code",
   "execution_count": 25,
   "id": "6cd35f65-7b56-4350-be41-49f9da638b24",
   "metadata": {
    "editable": true,
    "slideshow": {
     "slide_type": ""
    },
    "tags": []
   },
   "outputs": [
    {
     "name": "stdin",
     "output_type": "stream",
     "text": [
      "Số nguyên dương a: -2\n"
     ]
    },
    {
     "name": "stdout",
     "output_type": "stream",
     "text": [
      "lỗi\n"
     ]
    }
   ],
   "source": [
    "#W2A13\n",
    "\n",
    "a = int(input(\"Số nguyên dương a:\"))\n",
    "if a > 0:\n",
    "        b = int(input(\"Số nguyên dương b:\"))\n",
    "        if b > 0:\n",
    "           tich = a * b\n",
    "           print(f'{tich:.0f}')\n",
    "        else:\n",
    "           print(\"lỗi\")\n",
    "else:\n",
    "            print(\"lỗi\")\n",
    "\n",
    "\n",
    "\n",
    "    "
   ]
  },
  {
   "cell_type": "code",
   "execution_count": 30,
   "id": "e3e04458-3b6e-4818-bf8c-6929aa37a392",
   "metadata": {},
   "outputs": [
    {
     "name": "stdin",
     "output_type": "stream",
     "text": [
      "Nhập số a: 12\n",
      "Nhập số b: 43\n"
     ]
    },
    {
     "name": "stdout",
     "output_type": "stream",
     "text": [
      "Số a: 43.0 Số b: 12.0\n"
     ]
    }
   ],
   "source": [
    "#W2A14\n",
    "a = float(input(\"Nhập số a:\"))\n",
    "b = float(input(\"Nhập số b:\"))\n",
    "\n",
    "a,b = b,a\n",
    "\n",
    "print(\"Số a:\", a, \"Số b:\", b)\n"
   ]
  },
  {
   "cell_type": "code",
   "execution_count": 31,
   "id": "3b3cdd50-f299-4659-9d04-d139ac90c7ba",
   "metadata": {},
   "outputs": [
    {
     "name": "stdout",
     "output_type": "stream",
     "text": [
      "Spring\n",
      "Summer\n",
      "Autumn\n",
      "Winter\n"
     ]
    }
   ],
   "source": [
    "#W2A16\n",
    "print(\"Spring\\nSummer\\nAutumn\\nWinter\") "
   ]
  },
  {
   "cell_type": "code",
   "execution_count": 35,
   "id": "15de828a-3fef-47d2-b9bc-b38a95196b30",
   "metadata": {},
   "outputs": [
    {
     "name": "stdout",
     "output_type": "stream",
     "text": [
      "*\n",
      "**\n",
      "***\n"
     ]
    }
   ],
   "source": [
    "#W2A17\n",
    "print(\"*\")\n",
    "print(\"**\")\n",
    "print(\"***\")"
   ]
  },
  {
   "cell_type": "code",
   "execution_count": 39,
   "id": "80beb79c-7f4e-40be-aca6-fa7f17fa9962",
   "metadata": {},
   "outputs": [
    {
     "name": "stdout",
     "output_type": "stream",
     "text": [
      "\n",
      "###   # #      ###  ###  \n",
      " #    #    #    #    #  \n",
      " #    #     #   #    #  \n",
      " #    #    #    #    #  \n",
      " #    # #       #    # \n"
     ]
    }
   ],
   "source": [
    "#W2A18\n",
    "print(\"\"\"\n",
    "###   # #      ###  ###  \n",
    " #    #    #    #    #  \n",
    " #    #     #   #    #  \n",
    " #    #    #    #    #  \n",
    " #    # #       #    # \"\"\")"
   ]
  },
  {
   "cell_type": "code",
   "execution_count": 41,
   "id": "d71cb2eb-f77d-41fa-8718-49b337486e78",
   "metadata": {},
   "outputs": [
    {
     "name": "stdout",
     "output_type": "stream",
     "text": [
      "Monday\n",
      "Tuesday\n",
      "Wednesday\n",
      "Thursday\n",
      "Friday\n",
      "Saturday\n",
      "Sunday\n"
     ]
    }
   ],
   "source": [
    "#W2A19\n",
    "print(\"Monday\\nTuesday\\nWednesday\\nThursday\\nFriday\\nSaturday\\nSunday\")"
   ]
  },
  {
   "cell_type": "code",
   "execution_count": 42,
   "id": "517882d0-e1a2-4c47-b3c0-82a842091e87",
   "metadata": {},
   "outputs": [
    {
     "name": "stdout",
     "output_type": "stream",
     "text": [
      "January\n",
      "February\n",
      "March\n",
      "April\n",
      "May\n",
      "June\n",
      "July\n",
      "August\n",
      "September\n",
      "October\n",
      "November\n",
      "December\n"
     ]
    }
   ],
   "source": [
    "#W2A20\n",
    "print(\"January\\nFebruary\\nMarch\\nApril\\nMay\\nJune\\nJuly\\nAugust\\nSeptember\\nOctober\\nNovember\\nDecember\")"
   ]
  },
  {
   "cell_type": "code",
   "execution_count": 45,
   "id": "1b41c7e4-37c7-4e00-b598-e39718009d9c",
   "metadata": {},
   "outputs": [
    {
     "name": "stdout",
     "output_type": "stream",
     "text": [
      "Hello, world\n",
      "Hello, world\n",
      "Hello, world\n",
      "Hello, world\n",
      "Hello, world\n",
      "Hello, world\n",
      "Hello, world\n",
      "Hello, world\n",
      "Hello, world\n",
      "Hello, world\n",
      "\n"
     ]
    }
   ],
   "source": [
    "print(\"Hello, world\\n\" * 10)"
   ]
  },
  {
   "cell_type": "code",
   "execution_count": null,
   "id": "a7a3d9ac-2a7e-4039-b61e-bca51efd0804",
   "metadata": {},
   "outputs": [],
   "source": []
  }
 ],
 "metadata": {
  "kernelspec": {
   "display_name": "Python [conda env:base] *",
   "language": "python",
   "name": "conda-base-py"
  },
  "language_info": {
   "codemirror_mode": {
    "name": "ipython",
    "version": 3
   },
   "file_extension": ".py",
   "mimetype": "text/x-python",
   "name": "python",
   "nbconvert_exporter": "python",
   "pygments_lexer": "ipython3",
   "version": "3.13.5"
  }
 },
 "nbformat": 4,
 "nbformat_minor": 5
}
