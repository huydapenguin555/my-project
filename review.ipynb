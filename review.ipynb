{
 "cells": [
  {
   "cell_type": "code",
   "execution_count": 2,
   "id": "d39fb31e-5b45-410e-a2e2-0fcd2502550b",
   "metadata": {},
   "outputs": [
    {
     "name": "stdin",
     "output_type": "stream",
     "text": [
      "số nguyên n: 2\n"
     ]
    },
    {
     "name": "stdout",
     "output_type": "stream",
     "text": [
      "số gấp đôi của n: 4\n"
     ]
    }
   ],
   "source": [
    "n = int(input(\"số nguyên n:\"))\n",
    "\n",
    "gap_doi = n * 2\n",
    "\n",
    "print(\"số gấp đôi của n:\", f'{gap_doi}')"
   ]
  },
  {
   "cell_type": "code",
   "execution_count": 4,
   "id": "1cc60d40-0da7-49c1-a6b8-2f8c783673e8",
   "metadata": {},
   "outputs": [
    {
     "name": "stdin",
     "output_type": "stream",
     "text": [
      "chiều rộng: 2\n",
      "Chiều dài: 3\n"
     ]
    },
    {
     "name": "stdout",
     "output_type": "stream",
     "text": [
      "Diện tích trồng cây: 2.86\n"
     ]
    }
   ],
   "source": [
    "a = int(input(\"chiều rộng:\"))\n",
    "if a > 0:\n",
    "    b = int(input(\"Chiều dài:\"))\n",
    "    if b>0:\n",
    "        S = a * b - (a/2)**2 * 3.14\n",
    "        print(\"Diện tích trồng cây:\", f'{S}')\n",
    "    else:\n",
    "        print(\"chiều dài phải lớn hơn 0\")\n",
    "else:\n",
    "    print(\"chiều rộng phải lớn hơn 0\")"
   ]
  },
  {
   "cell_type": "code",
   "execution_count": 8,
   "id": "4cfffe53-c050-4470-9a44-e412c948991b",
   "metadata": {},
   "outputs": [
    {
     "name": "stdin",
     "output_type": "stream",
     "text": [
      "Nhập một ký tự: 1\n"
     ]
    },
    {
     "name": "stdout",
     "output_type": "stream",
     "text": [
      "đây không phải 1 ký tự\n"
     ]
    }
   ],
   "source": [
    "c = input(\"Nhập một ký tự:\")\n",
    "\n",
    "if c.isupper():\n",
    "    print(c.lower())\n",
    "elif c.islower():\n",
    "    print(c.upper())\n",
    "else:\n",
    "    print(\"đây không phải 1 ký tự\")"
   ]
  },
  {
   "cell_type": "code",
   "execution_count": 16,
   "id": "d5fd6d0f-f27b-4574-9626-9c1c46da5bb9",
   "metadata": {},
   "outputs": [
    {
     "name": "stdin",
     "output_type": "stream",
     "text": [
      "Nhập một ký tự: A\n"
     ]
    },
    {
     "name": "stdout",
     "output_type": "stream",
     "text": [
      "{A} thuộc alphabet\n"
     ]
    }
   ],
   "source": [
    "c = input(\"Nhập một ký tự:\")\n",
    "\n",
    "if c.isupper() or c.islower():\n",
    "    print(f\"{{{c}}} thuộc alphabet\")\n",
    "else:\n",
    "    print(f\"{{{cc}}} không thuộc alphabet\")"
   ]
  },
  {
   "cell_type": "code",
   "execution_count": 21,
   "id": "8742c5e0-30e8-4d29-8e64-ea99dd5f06d7",
   "metadata": {},
   "outputs": [
    {
     "name": "stdin",
     "output_type": "stream",
     "text": [
      "Nhập chữ cái hoa: B\n"
     ]
    },
    {
     "name": "stdout",
     "output_type": "stream",
     "text": [
      "a\n"
     ]
    }
   ],
   "source": [
    "c = input(\"Nhập chữ cái hoa:\")\n",
    "\n",
    "if c == 'A':\n",
    "    print(\"đây là trường hợp đặc biệt\")\n",
    "elif c.islower():\n",
    "    print(\"vui lòng nhập chữ hoa\")\n",
    "elif c.isupper():\n",
    "    chuthuong = c.lower()\n",
    "    print(chr(ord(chuthuong)-1))\n",
    "else:\n",
    "    print(\"vui lòng nhập chữ hoa\")\n"
   ]
  },
  {
   "cell_type": "code",
   "execution_count": 15,
   "id": "523ffc13-9ae6-4950-a610-16c0b111987e",
   "metadata": {},
   "outputs": [
    {
     "name": "stdin",
     "output_type": "stream",
     "text": [
      "Họ tên chủ hộ: huy\n",
      "Số điện tháng trước: 2097\n",
      "Số điện tháng này: 2278\n"
     ]
    },
    {
     "name": "stdout",
     "output_type": "stream",
     "text": [
      "tổng: 426038\n"
     ]
    }
   ],
   "source": [
    "name = input(\"Họ tên chủ hộ:\")\n",
    "thang_truoc = int(input(\"Số điện tháng trước:\"))\n",
    "thang_nay = int(input(\"Số điện tháng này:\"))                                                         \n",
    "\n",
    "so_dien = thang_nay - thang_truoc\n",
    "\n",
    "if 0< so_dien <=50:\n",
    "    print(\"tổng:\", f'{so_dien*1984*1.08:.0f}')\n",
    "elif 50< so_dien <=100:\n",
    "    print(\"tổng:\", f'{(50*1984+(so_dien-50)*2050)*1.08:.0f}')\n",
    "elif 100< so_dien <=200:\n",
    "    print(\"tổng:\", f'{(50*1984+50*2050+(so_dien-100)*2380)*1.08:.0f}')\n",
    "elif 200< so_dien <=300:\n",
    "    print(\"tổng:\", f'{(50*1984+50*2050+100*2380+(so_dien-200)*2998)*1.08:.0f}')\n",
    "elif 300< so_dien <=400:\n",
    "    print(\"tổng:\", f'{(50*1984+50*2050+100*2380+100*2998+(so_dien-300)*3350)*1.08:.0f}')\n",
    "elif so_dien > 400:\n",
    "    print(\"tổng:\", f'{(50*1984+50*2050+100*2380+100*2998+100*3350+(so_dien-400)*3460)*1.08:.0f}')\n",
    "else:\n",
    "    print(\"số điện tháng sau phải lớn hơn tháng trước\")"
   ]
  },
  {
   "cell_type": "code",
   "execution_count": null,
   "id": "dd55532d-575c-4877-b869-aa3eb6adccb4",
   "metadata": {},
   "outputs": [],
   "source": []
  }
 ],
 "metadata": {
  "kernelspec": {
   "display_name": "Python [conda env:base] *",
   "language": "python",
   "name": "conda-base-py"
  },
  "language_info": {
   "codemirror_mode": {
    "name": "ipython",
    "version": 3
   },
   "file_extension": ".py",
   "mimetype": "text/x-python",
   "name": "python",
   "nbconvert_exporter": "python",
   "pygments_lexer": "ipython3",
   "version": "3.13.5"
  }
 },
 "nbformat": 4,
 "nbformat_minor": 5
}
