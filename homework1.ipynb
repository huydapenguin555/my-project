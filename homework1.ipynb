{
 "cells": [
  {
   "cell_type": "code",
   "execution_count": 1,
   "id": "640d7890-4e4f-40ee-9104-87a667da5edb",
   "metadata": {},
   "outputs": [
    {
     "name": "stdin",
     "output_type": "stream",
     "text": [
      "Số nguyên n: 2\n"
     ]
    },
    {
     "name": "stdout",
     "output_type": "stream",
     "text": [
      "4\n"
     ]
    }
   ],
   "source": [
    "#Bai1\n",
    "a = int(input(\"Số nguyên n:\"))\n",
    "print(a*2)"
   ]
  },
  {
   "cell_type": "code",
   "execution_count": 8,
   "id": "673b8e34-05db-4274-89fb-d637082daba4",
   "metadata": {},
   "outputs": [
    {
     "name": "stdin",
     "output_type": "stream",
     "text": [
      "a: 2\n",
      "b: 3\n"
     ]
    },
    {
     "name": "stdout",
     "output_type": "stream",
     "text": [
      "Diện tích trồng cây: 2.86\n"
     ]
    }
   ],
   "source": [
    "#Bai2\n",
    "a = float(input(\"a:\"))\n",
    "if a <= 0:\n",
    "    print(\"chiều rộng phải lớn hơn 0\")\n",
    "else:\n",
    "    b = float(input(\"b:\"))\n",
    "    if b <= 0:\n",
    "        print(\"Chiều dài phải lớn hơn 0\")\n",
    "    else:\n",
    "        tich_hcn = a * b\n",
    "        tich_tron = (a/2)**2 * 3.14\n",
    "        print(\"Diện tích trồng cây:\", f'{tich_hcn - tich_tron:.2f}')\n"
   ]
  },
  {
   "cell_type": "code",
   "execution_count": 16,
   "id": "8cae573a-c8a1-4054-8f51-2112b551fd7b",
   "metadata": {},
   "outputs": [
    {
     "name": "stdin",
     "output_type": "stream",
     "text": [
      "Nhập một ký tự:  1\n"
     ]
    },
    {
     "name": "stdout",
     "output_type": "stream",
     "text": [
      "đây không phải chữ cái\n"
     ]
    }
   ],
   "source": [
    "#Bai3\n",
    "c = input(\"Nhập một ký tự: \")\n",
    "if c.isupper():\n",
    "    print(c.lower())\n",
    "elif c.islower():\n",
    "    print(c.upper())\n",
    "else:\n",
    "    print(\"đây không phải chữ cái\")"
   ]
  },
  {
   "cell_type": "code",
   "execution_count": 33,
   "id": "db73c9b6-0ac2-45ed-b644-9427d6e1c9e5",
   "metadata": {},
   "outputs": [
    {
     "name": "stdin",
     "output_type": "stream",
     "text": [
      "Nhập chữ cái: a\n"
     ]
    },
    {
     "name": "stdout",
     "output_type": "stream",
     "text": [
      "{a} là kí tự alphabet\n"
     ]
    }
   ],
   "source": [
    "#Bai4\n",
    "c = input(\"Nhập chữ cái:\")\n",
    "\n",
    "if c.isupper():\n",
    "    print(f\"{{{c}}} là kí tự alphabet\")\n",
    "elif c.islower():\n",
    "    print(f\"{{{c}}} là kí tự alphabet\")\n",
    "else:\n",
    "    print(f\"{{{c}}} không phải kí tự alphabet\")"
   ]
  },
  {
   "cell_type": "code",
   "execution_count": 62,
   "id": "bcc69619-ae15-45a9-a4b9-cd2f9894839b",
   "metadata": {},
   "outputs": [
    {
     "name": "stdin",
     "output_type": "stream",
     "text": [
      "Nhập chữ cái K\n"
     ]
    },
    {
     "name": "stdout",
     "output_type": "stream",
     "text": [
      "ky tu truoc do la j\n"
     ]
    }
   ],
   "source": [
    "#Bai5\n",
    "c = input(\"Nhập chữ cái\")\n",
    "\n",
    "if c == \"A\":\n",
    "    print(\"Đây là trường hợp đặc biệt\")\n",
    "elif c.isupper():\n",
    "    chu_thuong = c.lower()\n",
    "    truoc = chr(ord(chu_thuong) - 1)\n",
    "    print(\"ky tu truoc do la\", truoc)\n",
    "else:\n",
    "    print(\"vui long nhap chu hoa tu A-Z\")"
   ]
  },
  {
   "cell_type": "code",
   "execution_count": 77,
   "id": "79893994-9a76-4f19-98d0-43ecfaed7b89",
   "metadata": {},
   "outputs": [
    {
     "name": "stdin",
     "output_type": "stream",
     "text": [
      "độ dài cạnh a: 3\n",
      "độ dài cạnh b: 4\n",
      "độ dài cạnh c: 5\n"
     ]
    },
    {
     "name": "stdout",
     "output_type": "stream",
     "text": [
      "Dien tich: 6.00\n"
     ]
    }
   ],
   "source": [
    "#Bai6\n",
    "import math\n",
    "a = float(input(\"độ dài cạnh a:\"))\n",
    "b = float(input(\"độ dài cạnh b:\"))\n",
    "c = float(input(\"độ dài cạnh c:\"))\n",
    "\n",
    "if a+b<=c or a+c<=b or b+c<=a:\n",
    "     print(\"Khong phai 3 canh cua tam giac\")\n",
    "else:\n",
    "     p = (a + b + c)/2\n",
    "     s = math.sqrt (p * (p-a) * (p-b) * (p-c))\n",
    "     print(\"Dien tich:\", f'{s:.2f}')"
   ]
  },
  {
   "cell_type": "code",
   "execution_count": 87,
   "id": "4165cfa2-d9ac-484c-ad67-e32592935907",
   "metadata": {},
   "outputs": [
    {
     "name": "stdin",
     "output_type": "stream",
     "text": [
      "Nhập chuỗi có độ dài >=20: 5211111111111111111111111111\n"
     ]
    },
    {
     "name": "stdout",
     "output_type": "stream",
     "text": [
      "Chữ cái thứ 5: 1\n",
      "Chữ cái thứ 9: 1\n"
     ]
    }
   ],
   "source": [
    "#Bai7\n",
    "chuoi = input(\"Nhập chuỗi có độ dài >=20:\")\n",
    "\n",
    "if len(chuoi) >=20:\n",
    "    print(\"Chữ cái thứ 5:\", chuoi[4])\n",
    "    print(\"Chữ cái thứ 9:\", chuoi[8])\n",
    "else:\n",
    "    print(\"độ dài không đủ\")"
   ]
  },
  {
   "cell_type": "code",
   "execution_count": 2,
   "id": "efe33be2-5632-4ad4-b960-14798e62c7de",
   "metadata": {},
   "outputs": [
    {
     "name": "stdin",
     "output_type": "stream",
     "text": [
      "Họ tên chủ hộ: huy\n",
      "Số điện tháng trước: 2097\n",
      "Số điện tháng này: 2278\n"
     ]
    },
    {
     "name": "stdout",
     "output_type": "stream",
     "text": [
      "huy\n",
      "tổng: 426038\n"
     ]
    }
   ],
   "source": [
    "#Bai8\n",
    "name = input(\"Họ tên chủ hộ:\")\n",
    "thang_truoc = int(input(\"Số điện tháng trước:\"))\n",
    "thang_nay = int(input(\"Số điện tháng này:\"))                                                         \n",
    "\n",
    "so_dien = thang_nay - thang_truoc\n",
    "print(name)\n",
    "\n",
    "if 0< so_dien <=50:\n",
    "    print(\"tổng:\", f'{so_dien*1984*1.08:.0f}')\n",
    "elif 50< so_dien <=100:\n",
    "    print(\"tổng:\", f'{(50*1984+(so_dien-50)*2050)*1.08:.0f}')\n",
    "elif 100< so_dien <=200:\n",
    "    print(\"tổng:\", f'{(50*1984+50*2050+(so_dien-100)*2380)*1.08:.0f}')\n",
    "elif 200< so_dien <=300:\n",
    "    print(\"tổng:\", f'{(50*1984+50*2050+100*2380+(so_dien-200)*2998)*1.08:.0f}')\n",
    "elif 300< so_dien <=400:\n",
    "    print(\"tổng:\", f'{(50*1984+50*2050+100*2380+100*2998+(so_dien-300)*3350)*1.08:.0f}')\n",
    "elif so_dien > 400:\n",
    "    print(\"tổng tiền phải trả:\", f'{(50*1984+50*2050+100*2380+100*2998+100*3350+(so_dien-400)*3460)*1.08:.0f}')\n",
    "else:\n",
    "    print(\"số điện tháng sau phải lớn hơn tháng trước\")\n"
   ]
  },
  {
   "cell_type": "code",
   "execution_count": null,
   "id": "92c6cac7-5db0-42cb-b4f5-661e57215b36",
   "metadata": {},
   "outputs": [],
   "source": []
  }
 ],
 "metadata": {
  "kernelspec": {
   "display_name": "Python [conda env:base] *",
   "language": "python",
   "name": "conda-base-py"
  },
  "language_info": {
   "codemirror_mode": {
    "name": "ipython",
    "version": 3
   },
   "file_extension": ".py",
   "mimetype": "text/x-python",
   "name": "python",
   "nbconvert_exporter": "python",
   "pygments_lexer": "ipython3",
   "version": "3.13.5"
  }
 },
 "nbformat": 4,
 "nbformat_minor": 5
}
